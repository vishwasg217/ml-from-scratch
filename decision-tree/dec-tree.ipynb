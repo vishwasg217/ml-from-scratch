{
 "cells": [
  {
   "cell_type": "markdown",
   "metadata": {},
   "source": [
    "# Decision Tree"
   ]
  },
  {
   "cell_type": "markdown",
   "metadata": {},
   "source": [
    "## Import libraries"
   ]
  },
  {
   "cell_type": "code",
   "execution_count": 154,
   "metadata": {},
   "outputs": [
    {
     "name": "stdout",
     "output_type": "stream",
     "text": [
      "Libraries imported!\n"
     ]
    }
   ],
   "source": [
    "import numpy as np\n",
    "import matplotlib.pyplot as plt\n",
    "from matplotlib.patches import FancyArrowPatch\n",
    "from matplotlib.text import Annotation\n",
    "\n",
    "print(\"Libraries imported!\")"
   ]
  },
  {
   "cell_type": "markdown",
   "metadata": {},
   "source": [
    "## Model Architecture"
   ]
  },
  {
   "cell_type": "code",
   "execution_count": 155,
   "metadata": {},
   "outputs": [],
   "source": [
    "class DecisionTree():\n",
    "\n",
    "    def __init__(self, max_depth=None):\n",
    "        self.max_depth = max_depth\n",
    "\n",
    "    def fit(self, X, y):\n",
    "        self.n_classes_ = len(np.unique(y))\n",
    "        self.n_features_ = X.shape[1]\n",
    "        self.tree_ = self._grow_tree(X, y)\n",
    "\n",
    "    def predict(self, X):\n",
    "        y_pred = []\n",
    "        for x in X:\n",
    "            node = self.tree_\n",
    "            while node.left:\n",
    "                if x[node.feature_idx] < node.threshold:\n",
    "                    node = node.left\n",
    "                else:\n",
    "                    node = node.right\n",
    "            y_pred.append(node.majority_class)\n",
    "\n",
    "        return y_pred\n",
    "\n",
    "\n",
    "    def _grow_tree(self, X, y, depth=0):\n",
    "        # provides the count of each class in the current y split\n",
    "        samples_per_class = [np.sum(y == i) for i in range(self.n_classes_)]\n",
    "        # finds the most occuring class in the current split\n",
    "        majority_class = np.argmax(samples_per_class)\n",
    "        # assigns the majoiry class to the node for classification\n",
    "        node = Node(majority_class=majority_class)\n",
    "        if depth < self.max_depth:\n",
    "            feature_idx, threshold = self._best_split(X, y)\n",
    "            if feature_idx is not None:\n",
    "                node.num_samples = len(y)\n",
    "                # splits the data according to the threshold\n",
    "                left_indices = X[:, feature_idx] < threshold\n",
    "                X_left, y_left = X[left_indices], y[left_indices]\n",
    "                X_right, y_right = X[~left_indices], y[~left_indices]\n",
    "                node.feature_idx = feature_idx\n",
    "                node.threshold = threshold\n",
    "                # recursive call for the left and right split\n",
    "                node.left = self._grow_tree(X_left, y_left, depth + 1)\n",
    "                node.right = self._grow_tree(X_right, y_right, depth + 1)\n",
    "                \n",
    "        \n",
    "        return node\n",
    "    \n",
    "    def _best_split(self, X, y):\n",
    "        m = y.size\n",
    "\n",
    "        # if there is only one class in y, return None, None\n",
    "        if m <= 1:\n",
    "            print(\"hello\")\n",
    "            return None, None\n",
    "\n",
    "        # initialize the best gini index with gini index of parent node\n",
    "        best_gini = self._gini(y)\n",
    "\n",
    "        # initialize the best feature and threshold with None, None\n",
    "        best_feature_idx, best_threshold = None, None\n",
    "\n",
    "        for feature_idx in range(self.n_features_):\n",
    "            # Sort feature values and corresponding class labels\n",
    "            thresholds = sorted(X[:, feature_idx])\n",
    "\n",
    "            for i in range(1, m):\n",
    "                # splits the data according to the thresholds\n",
    "                left_indices = X[:, feature_idx] < thresholds[i]\n",
    "                y_left = y[left_indices]\n",
    "                y_right = y[~left_indices]\n",
    "                # find gini index for left and right splits and then calculate the weighted average of it\n",
    "                gini_left  = self._gini(y_left)\n",
    "                gini_right = self._gini(y_right)\n",
    "                weighted_gini = (len(y_left) / len(y)) * gini_left + (len(y_right) / len(y)) * gini_right\n",
    "                if thresholds[i] == thresholds[i - 1]:\n",
    "                    continue\n",
    "\n",
    "            # Update best index and threshold if current Gini is lower\n",
    "                if weighted_gini < best_gini:\n",
    "                    best_gini = weighted_gini\n",
    "                    best_feature_idx = feature_idx\n",
    "                    best_threshold = (thresholds[i] + thresholds[i - 1]) / 2\n",
    "\n",
    "        return best_feature_idx, best_threshold\n",
    "\n",
    "\n",
    "    def _gini(self, y):\n",
    "         # returns the count of each value in the array\n",
    "        _, counts = np.unique(y, return_counts=True)\n",
    "        # calculate the gini impurity\n",
    "        impurity = 1 - np.sum(np.square(counts / len(y)))\n",
    "        return impurity\n",
    "    \n",
    "    def traverse_tree(self, node=None, depth=0):\n",
    "        if node is None:\n",
    "            node = self.tree_\n",
    "        if node.is_leaf_node():\n",
    "            print(\"  \" * depth + f\"Leaf Node: Majority class = {node.majority_class}\")\n",
    "        else:\n",
    "            print(\"  \" * depth + f\"Node: Majority class = {node.majority_class}\")\n",
    "            if node.feature_idx is not None:\n",
    "                print(\"  \" * depth + f\"  Split on feature {node.feature_idx} with threshold {node.threshold}\")\n",
    "                print(\"  \" * depth + \"  Left:\")\n",
    "                self.traverse_tree(node.left, depth + 1)\n",
    "                print(\"  \" * depth + \"  Right:\")\n",
    "                self.traverse_tree(node.right, depth + 1)\n",
    "        print(\"Number of samples in node: {}\".format(node.num_samples))\n",
    "\n",
    "class Node():\n",
    "    \n",
    "    def __init__(self, majority_class):\n",
    "        self.majority_class = majority_class  \n",
    "        self.feature_idx = None\n",
    "        self.threshold = None\n",
    "        self.left = None\n",
    "        self.right = None\n",
    "        self.num_samples = None\n",
    "\n",
    "    def is_leaf_node(self):\n",
    "        return self.left is None and self.right is None\n"
   ]
  },
  {
   "cell_type": "markdown",
   "metadata": {},
   "source": [
    "## Dataset"
   ]
  },
  {
   "cell_type": "code",
   "execution_count": 156,
   "metadata": {},
   "outputs": [],
   "source": [
    "from sklearn.datasets import load_iris\n",
    "from sklearn.model_selection import train_test_split\n",
    "\n",
    "\n",
    "# Load the iris dataset\n",
    "iris = load_iris()\n",
    "X = iris.data\n",
    "y = iris.target\n",
    "\n",
    "# Split the data into training and testing sets\n",
    "X_train, X_test, y_train, y_test = train_test_split(X, y, test_size=0.2, random_state=42)"
   ]
  },
  {
   "cell_type": "markdown",
   "metadata": {},
   "source": [
    "## Train model"
   ]
  },
  {
   "cell_type": "code",
   "execution_count": 157,
   "metadata": {},
   "outputs": [],
   "source": [
    "tree = DecisionTree(max_depth=3)\n",
    "tree.fit(X_train, y_train)"
   ]
  },
  {
   "cell_type": "code",
   "execution_count": 158,
   "metadata": {},
   "outputs": [
    {
     "name": "stdout",
     "output_type": "stream",
     "text": [
      "Accuracy: 1.0\n",
      "Precision: 1.0\n",
      "Recall: 1.0\n",
      "F1: 1.0\n"
     ]
    }
   ],
   "source": [
    "from sklearn.metrics import accuracy_score, precision_score, recall_score, f1_score\n",
    "\n",
    "y_pred = tree.predict(X_test)\n",
    "\n",
    "acc = accuracy_score(y_test, y_pred)\n",
    "prec = precision_score(y_test, y_pred, average='macro')\n",
    "rec = recall_score(y_test, y_pred, average='macro')\n",
    "f1 = f1_score(y_test, y_pred, average='macro')\n",
    "\n",
    "print(f\"Accuracy: {acc}\")\n",
    "print(f\"Precision: {prec}\")\n",
    "print(f\"Recall: {rec}\")\n",
    "print(f\"F1: {f1}\")"
   ]
  },
  {
   "cell_type": "markdown",
   "metadata": {},
   "source": [
    "## Tree traversal"
   ]
  },
  {
   "cell_type": "code",
   "execution_count": 159,
   "metadata": {},
   "outputs": [
    {
     "name": "stdout",
     "output_type": "stream",
     "text": [
      "Node: Majority class = 1\n",
      "  Split on feature 2 with threshold 2.45\n",
      "  Left:\n",
      "  Leaf Node: Majority class = 0\n",
      "Number of samples in node: None\n",
      "  Right:\n",
      "  Node: Majority class = 1\n",
      "    Split on feature 2 with threshold 4.75\n",
      "    Left:\n",
      "    Node: Majority class = 1\n",
      "      Split on feature 3 with threshold 1.65\n",
      "      Left:\n",
      "      Leaf Node: Majority class = 1\n",
      "Number of samples in node: None\n",
      "      Right:\n",
      "      Leaf Node: Majority class = 2\n",
      "Number of samples in node: None\n",
      "Number of samples in node: 37\n",
      "    Right:\n",
      "    Node: Majority class = 2\n",
      "      Split on feature 3 with threshold 1.75\n",
      "      Left:\n",
      "      Leaf Node: Majority class = 1\n",
      "Number of samples in node: None\n",
      "      Right:\n",
      "      Leaf Node: Majority class = 2\n",
      "Number of samples in node: None\n",
      "Number of samples in node: 43\n",
      "Number of samples in node: 80\n",
      "Number of samples in node: 120\n"
     ]
    }
   ],
   "source": [
    "tree.traverse_tree()"
   ]
  },
  {
   "cell_type": "markdown",
   "metadata": {},
   "source": [
    "## Visualization"
   ]
  },
  {
   "cell_type": "code",
   "execution_count": 160,
   "metadata": {},
   "outputs": [
    {
     "data": {
      "text/plain": [
       "<matplotlib.legend.Legend at 0x281036a90>"
      ]
     },
     "execution_count": 160,
     "metadata": {},
     "output_type": "execute_result"
    },
    {
     "data": {
      "image/png": "[encoded data removed]",
      "text/plain": [
       "<Figure size 1500x500 with 2 Axes>"
      ]
     },
     "metadata": {},
     "output_type": "display_data"
    }
   ],
   "source": [
    "colors = ['r', 'g', 'b']\n",
    "\n",
    "target_names = iris.target_names \n",
    "feature_names = iris.feature_names\n",
    "\n",
    "fig, ax = plt.subplots(1, 2, figsize=(15, 5))\n",
    "for i, target_name in enumerate(target_names):\n",
    "    ax[0].scatter(X_test[y_test==i, 0], X_test[y_test==i, 1], c=colors[i], label=target_name)\n",
    "\n",
    "ax[0].set_xlabel(feature_names[0])\n",
    "ax[0].set_ylabel(feature_names[1])\n",
    "ax[0].set_title(f\"{feature_names[0]} vs {feature_names[1]}\")\n",
    "ax[0].legend()\n",
    "\n",
    "\n",
    "for i, target_name in enumerate(target_names):\n",
    "    ax[1].scatter(X_test[y_test==i, 2], X_test[y_test==i, 2], c=colors[i], label=target_name)\n",
    "\n",
    "ax[1].set_xlabel(feature_names[1])\n",
    "ax[1].set_ylabel(feature_names[2])\n",
    "ax[1].set_title(f\"{feature_names[2]} vs {feature_names[3]}\")\n",
    "ax[1].legend()\n",
    "\n"
   ]
  }
 ],
 "metadata": {
  "kernelspec": {
   "display_name": "venv",
   "language": "python",
   "name": "python3"
  },
  "language_info": {
   "codemirror_mode": {
    "name": "ipython",
    "version": 3
   },
   "file_extension": ".py",
   "mimetype": "text/x-python",
   "name": "python",
   "nbconvert_exporter": "python",
   "pygments_lexer": "ipython3",
   "version": "3.11.1"
  },
  "orig_nbformat": 4
 },
 "nbformat": 4,
 "nbformat_minor": 2
}
