{
 "cells": [
  {
   "cell_type": "markdown",
   "metadata": {},
   "source": [
    "# Logistic Regression"
   ]
  },
  {
   "cell_type": "markdown",
   "metadata": {},
   "source": [
    "## Import Libraries"
   ]
  },
  {
   "cell_type": "code",
   "execution_count": 1,
   "metadata": {},
   "outputs": [
    {
     "name": "stdout",
     "output_type": "stream",
     "text": [
      "Libraries imported\n"
     ]
    }
   ],
   "source": [
    "import numpy as np\n",
    "import pandas as pd\n",
    "import matplotlib.pyplot as plt\n",
    "\n",
    "print(\"Libraries imported\")"
   ]
  },
  {
   "cell_type": "markdown",
   "metadata": {},
   "source": [
    "## Model Architecture"
   ]
  },
  {
   "cell_type": "code",
   "execution_count": 2,
   "metadata": {},
   "outputs": [],
   "source": [
    "import numpy as np\n",
    "\n",
    "class LogisticRegression:\n",
    "    \"\"\"\n",
    "    Logistic Regression Classifier\n",
    "\n",
    "    Parameters:\n",
    "    - lr (float): Learning rate for gradient descent optimization.\n",
    "    - num_iter (int): Number of iterations for gradient descent.\n",
    "\n",
    "    Methods:\n",
    "    - fit(X, y): Fit the logistic regression model to the training data.\n",
    "    - predict(X): Predict the binary class labels for new data.\n",
    "    - _sigmoid(z): Apply the sigmoid function to a value or array.\n",
    "\n",
    "    Attributes:\n",
    "    - weights (array): Learned weights for the features.\n",
    "    - bias (float): Learned bias term.\n",
    "    \"\"\"\n",
    "\n",
    "    def __init__(self, lr=0.01, num_iter=1000):\n",
    "        \"\"\"\n",
    "        Initialize the LogisticRegression model.\n",
    "\n",
    "        Parameters:\n",
    "        - lr (float): Learning rate for gradient descent optimization.\n",
    "        - num_iter (int): Number of iterations for gradient descent.\n",
    "        \"\"\"\n",
    "        self.lr = lr\n",
    "        self.num_iter = num_iter\n",
    "        self.weights = None\n",
    "        self.bias = None\n",
    "        \n",
    "    def fit(self, X, y):\n",
    "        \"\"\"\n",
    "        Fit the logistic regression model to the training data.\n",
    "\n",
    "        Parameters:\n",
    "        - X (array-like): Training feature matrix.\n",
    "        - y (array-like): Target binary class labels.\n",
    "        \"\"\"\n",
    "        if len(X.shape) == 1:\n",
    "            n_samples = 1\n",
    "            n_features = 1\n",
    "            self.weights = 0\n",
    "        else:\n",
    "            n_samples, n_features = X.shape\n",
    "            self.weights = np.zeros(n_features)\n",
    "\n",
    "        self.bias = 0\n",
    "\n",
    "        for i in range(self.num_iter):\n",
    "            z = np.dot(X, self.weights) + self.bias\n",
    "            y_pred = self._sigmoid(z)\n",
    "            cost = (-1 / n_samples) * np.sum(y * np.log(y_pred) + (1 - y) * np.log(1 - y_pred))\n",
    "            \n",
    "            dw = (1 / n_samples) * np.dot(X.T, (y_pred - y))\n",
    "            db = (1 / n_samples) * np.sum(y_pred - y)\n",
    "            \n",
    "            self.weights -= self.lr * dw\n",
    "            self.bias -= self.lr * db\n",
    "\n",
    "    def predict(self, X):\n",
    "        \"\"\"\n",
    "        Predict the binary class labels for new data.\n",
    "\n",
    "        Parameters:\n",
    "        - X (array-like): New data feature matrix.\n",
    "\n",
    "        Returns:\n",
    "        - y_predicted_cls (array): Predicted binary class labels.\n",
    "        \"\"\"\n",
    "        z = np.dot(X, self.weights) + self.bias\n",
    "        y_hat = self._sigmoid(z)\n",
    "        y_predicted_cls = np.round(y_hat).astype(int)\n",
    "        return np.array(y_predicted_cls)\n",
    "    \n",
    "    def _sigmoid(self, z):\n",
    "        \"\"\"\n",
    "        Apply the sigmoid function to a value or array.\n",
    "\n",
    "        Parameters:\n",
    "        - z (float or array): Input value or array.\n",
    "\n",
    "        Returns:\n",
    "        - sigmoid_result (float or array): Result after applying the sigmoid function.\n",
    "        \"\"\"\n",
    "        return 1 / (1 + np.exp(-z))\n"
   ]
  },
  {
   "cell_type": "markdown",
   "metadata": {},
   "source": [
    "## Dataset"
   ]
  },
  {
   "cell_type": "code",
   "execution_count": 3,
   "metadata": {},
   "outputs": [],
   "source": [
    "from sklearn.datasets import make_classification\n",
    "from sklearn.model_selection import train_test_split\n",
    "\n",
    "X, y = make_classification(n_samples=1000, n_features=2, n_classes=2, n_clusters_per_class=1, n_redundant=0, random_state=42)\n",
    "\n",
    "X_train, X_test, y_train, y_test = train_test_split(X, y, test_size=0.2, random_state=42)"
   ]
  },
  {
   "cell_type": "code",
   "execution_count": 4,
   "metadata": {},
   "outputs": [],
   "source": [
    "log_reg = LogisticRegression(lr=0.1, num_iter=10)\n",
    "log_reg.fit(X_train, y_train)"
   ]
  },
  {
   "cell_type": "code",
   "execution_count": 5,
   "metadata": {},
   "outputs": [
    {
     "name": "stdout",
     "output_type": "stream",
     "text": [
      "Accuracy: 0.895\n",
      "Precision: 0.8966616054256504\n",
      "Recall: 0.895\n",
      "F1 Score: 0.8947228158390951\n"
     ]
    }
   ],
   "source": [
    "from sklearn.metrics import accuracy_score, precision_score, recall_score, f1_score\n",
    "\n",
    "y_pred = log_reg.predict(X_test)\n",
    "\n",
    "acc = accuracy_score(y_test, y_pred)\n",
    "prec = precision_score(y_test, y_pred, average='weighted')\n",
    "rec = recall_score(y_test, y_pred, average='weighted')\n",
    "f1 = f1_score(y_test, y_pred, average='weighted')\n",
    "\n",
    "print(\"Accuracy:\", acc)\n",
    "print(\"Precision:\", prec)\n",
    "print(\"Recall:\", rec)\n",
    "print(\"F1 Score:\", f1)"
   ]
  },
  {
   "cell_type": "markdown",
   "metadata": {},
   "source": [
    "## Visualization"
   ]
  },
  {
   "cell_type": "code",
   "execution_count": 6,
   "metadata": {},
   "outputs": [
    {
     "data": {
      "text/plain": [
       "Text(0.5, 1.0, 'Logistic Regression')"
      ]
     },
     "execution_count": 6,
     "metadata": {},
     "output_type": "execute_result"
    },
    {
     "data": {
      "image/png": "[encoded data removed]",
      "text/plain": [
       "<Figure size 800x600 with 1 Axes>"
      ]
     },
     "metadata": {},
     "output_type": "display_data"
    }
   ],
   "source": [
    "fig, ax = plt.subplots(figsize=(8,6))\n",
    "\n",
    "ax.scatter(X_test[y_test == 0, 0], X_test[y_test == 0, 1], c='r', label='Class 0')\n",
    "ax.scatter(X_test[y_test == 1, 0], X_test[y_test == 1, 1], c='b', label='Class 1')\n",
    "ax.legend()\n",
    "ax.set_xlabel(\"X1\")\n",
    "ax.set_ylabel(\"X2\")\n",
    "ax.set_title(\"Logistic Regression\")"
   ]
  }
 ],
 "metadata": {
  "kernelspec": {
   "display_name": "venv",
   "language": "python",
   "name": "python3"
  },
  "language_info": {
   "codemirror_mode": {
    "name": "ipython",
    "version": 3
   },
   "file_extension": ".py",
   "mimetype": "text/x-python",
   "name": "python",
   "nbconvert_exporter": "python",
   "pygments_lexer": "ipython3",
   "version": "3.11.1"
  },
  "orig_nbformat": 4
 },
 "nbformat": 4,
 "nbformat_minor": 2
}
