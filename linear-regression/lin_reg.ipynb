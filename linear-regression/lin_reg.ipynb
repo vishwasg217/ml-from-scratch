{
 "cells": [
  {
   "cell_type": "markdown",
   "metadata": {},
   "source": [
    "# Linear Regression"
   ]
  },
  {
   "cell_type": "markdown",
   "metadata": {},
   "source": [
    "## Import Libraries"
   ]
  },
  {
   "cell_type": "code",
   "execution_count": 1,
   "metadata": {},
   "outputs": [
    {
     "name": "stdout",
     "output_type": "stream",
     "text": [
      "Libraries imported\n"
     ]
    }
   ],
   "source": [
    "import numpy as np\n",
    "import pandas as pd\n",
    "import matplotlib.pyplot as plt\n",
    "\n",
    "print(\"Libraries imported\")"
   ]
  },
  {
   "cell_type": "markdown",
   "metadata": {},
   "source": [
    "## Model Architecture"
   ]
  },
  {
   "cell_type": "code",
   "execution_count": 2,
   "metadata": {},
   "outputs": [],
   "source": [
    "class LinearRegression:\n",
    "    \"\"\"\n",
    "    Linear Regression Model\n",
    "\n",
    "    Parameters:\n",
    "    - lr (float): Learning rate for gradient descent optimization.\n",
    "    - iters (int): Number of iterations for gradient descent.\n",
    "\n",
    "    Methods:\n",
    "    - fit(X, y): Fit the linear regression model to the training data.\n",
    "    - predict(X): Predict target values for new data.\n",
    "\n",
    "    Attributes:\n",
    "    - weights (array): Learned coefficients for the features.\n",
    "    - bias (float): Learned intercept term.\n",
    "    \"\"\"\n",
    "\n",
    "    def __init__(self, lr=0.01, iters=1000):\n",
    "        \"\"\"\n",
    "        Initialize the LinearRegression model.\n",
    "\n",
    "        Parameters:\n",
    "        - lr (float): Learning rate for gradient descent optimization.\n",
    "        - iters (int): Number of iterations for gradient descent.\n",
    "        \"\"\"\n",
    "        self.lr = lr\n",
    "        self.iters = iters\n",
    "        self.weights = None\n",
    "        self.bias = None\n",
    "\n",
    "    def fit(self, X, y):\n",
    "        \"\"\"\n",
    "        Fit the linear regression model to the training data.\n",
    "\n",
    "        Parameters:\n",
    "        - X (array-like): Training feature matrix.\n",
    "        - y (array-like): Target values.\n",
    "        \"\"\"\n",
    "        if len(X.shape) == 1:\n",
    "            n_samples = 1\n",
    "            n_features = 1\n",
    "            self.weights = 0\n",
    "        else:\n",
    "            n_samples, n_features = X.shape\n",
    "            self.weights = np.zeros(n_features)\n",
    "\n",
    "        self.bias = 0\n",
    "\n",
    "        for i in range(self.iters):\n",
    "            y_pred = np.dot(X, self.weights) + self.bias\n",
    "            cost = (1/n_samples) * np.sum((y_pred - y)**2)\n",
    "\n",
    "            dw = (-2/n_samples) * np.dot(X.T, (y - y_pred))\n",
    "            db = (-2/n_samples) * np.sum(y - y_pred)\n",
    "            \n",
    "            self.weights -= self.lr * dw\n",
    "            self.bias -= self.lr * db\n",
    "\n",
    "    def predict(self, X):\n",
    "        \"\"\"\n",
    "        Predict target values for new data.\n",
    "\n",
    "        Parameters:\n",
    "        - X (array-like): New data feature matrix.\n",
    "\n",
    "        Returns:\n",
    "        - y_pred (array): Predicted target values.\n",
    "        \"\"\"\n",
    "        y_pred = np.dot(X, self.weights) + self.bias\n",
    "        return y_pred\n"
   ]
  },
  {
   "cell_type": "markdown",
   "metadata": {},
   "source": [
    "## Dataset"
   ]
  },
  {
   "cell_type": "code",
   "execution_count": 3,
   "metadata": {},
   "outputs": [],
   "source": [
    "from sklearn.datasets import make_regression\n",
    "from sklearn.model_selection import train_test_split\n",
    "\n",
    "# used to generate a random dataset with 100 samples and 3 features\n",
    "X, y = make_regression(n_samples=100, n_features=2, noise=1, random_state=42)\n",
    "\n",
    "X_train, X_test, y_train, y_test = train_test_split(X, y, test_size = 0.2, random_state = 42)"
   ]
  },
  {
   "cell_type": "markdown",
   "metadata": {},
   "source": [
    "## Model Training"
   ]
  },
  {
   "cell_type": "code",
   "execution_count": 4,
   "metadata": {},
   "outputs": [],
   "source": [
    "lr_model = LinearRegression(lr = 0.001, iters = 1000)\n",
    "lr_model.fit(X_train, y_train)"
   ]
  },
  {
   "cell_type": "markdown",
   "metadata": {},
   "source": [
    "## Model Evaluation"
   ]
  },
  {
   "cell_type": "code",
   "execution_count": 5,
   "metadata": {},
   "outputs": [
    {
     "name": "stdout",
     "output_type": "stream",
     "text": [
      "mse: 273.67\n",
      "r2: 0.97\n"
     ]
    }
   ],
   "source": [
    "from sklearn.metrics import mean_squared_error, r2_score\n",
    "\n",
    "y_pred = lr_model.predict(X_test)\n",
    "y_pred\n",
    "mse = mean_squared_error(y_test, y_pred) # mean squared error formula: 1/n * sum(y_true - y_pred)^2\n",
    "r2 = r2_score(y_test, y_pred) # r2 score formula: 1 - (sum(y_true - y_pred)^2 / sum(y_true - y_mean)^2)\n",
    "\n",
    "print(f\"mse: {mse:.2f}\")\n",
    "print(f\"r2: {r2:.2f}\")"
   ]
  }
 ],
 "metadata": {
  "kernelspec": {
   "display_name": "venv",
   "language": "python",
   "name": "python3"
  },
  "language_info": {
   "codemirror_mode": {
    "name": "ipython",
    "version": 3
   },
   "file_extension": ".py",
   "mimetype": "text/x-python",
   "name": "python",
   "nbconvert_exporter": "python",
   "pygments_lexer": "ipython3",
   "version": "3.11.1"
  },
  "orig_nbformat": 4
 },
 "nbformat": 4,
 "nbformat_minor": 2
}
